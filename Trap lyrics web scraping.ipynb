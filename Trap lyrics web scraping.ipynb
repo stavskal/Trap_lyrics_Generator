{
 "cells": [
  {
   "cell_type": "code",
   "execution_count": 2,
   "metadata": {
    "collapsed": false,
    "scrolled": true
   },
   "outputs": [],
   "source": [
    "from urlparse import urljoin\n",
    "from bs4 import BeautifulSoup\n",
    "import requests\n",
    "\n",
    "# These are the artists from which lyrics will be scraped\n",
    "artist_list =['Rick-ross','Rl-grime', 'Baauer', 'Yellow-claw','Bro-safari','Flosstradamus','Grandtheft',\n",
    "             'Lookas','Milo-and-otis','What So Not','Buku','ODESZA','Gucci-mane','Kevin-gates','Wiz-khalifa',\n",
    "              'Jeezy','2-chainz','Bobby-shmurda','Diplo','Future','Dillon-francis','Hudson-mohawke','Lunice',\n",
    "             'Major-lazer','Bassnectar','Borgore','Rich-the-kid','Young-thug','Migos','San-holo','Fetty-wap',\n",
    "             'Young-chop','Dj-paul','Yung-lean']\n",
    "\n",
    "BASE_URL = \"http://genius.com\"\n",
    "\n",
    "i=0\n",
    "text_file = open('trap_mega_lyrics.txt','w')\n",
    "\n",
    "for artist in artist_list:\n",
    "    # For every artis get a list of his songs, then proceed\n",
    "    # to request every song's lyrics. The text is appended in a txt file\n",
    "    artist_url = \"http://genius.com/artists/\" + artist + '/'\n",
    "    response = requests.get(artist_url, headers={'User-Agent': 'Mozilla/5.0'})\n",
    "    soup = BeautifulSoup(response.text, \"html.parser\")\n",
    "    \n",
    "    for lyrics_page in soup.select('ul.song_list > li > a'):\n",
    "        link = urljoin(BASE_URL, lyrics_page['href'])\n",
    "        response = requests.get(link)\n",
    "        soup = BeautifulSoup(response.text)\n",
    "        lyrics = soup.find('div', class_='song_body-lyrics').text.strip()\n",
    "        text_file.write(lyrics.encode('utf-8'))\n",
    "text_file.close()\n"
   ]
  },
  {
   "cell_type": "code",
   "execution_count": null,
   "metadata": {
    "collapsed": true
   },
   "outputs": [],
   "source": []
  }
 ],
 "metadata": {
  "kernelspec": {
   "display_name": "Python 2",
   "language": "python",
   "name": "python2"
  },
  "language_info": {
   "codemirror_mode": {
    "name": "ipython",
    "version": 2
   },
   "file_extension": ".py",
   "mimetype": "text/x-python",
   "name": "python",
   "nbconvert_exporter": "python",
   "pygments_lexer": "ipython2",
   "version": "2.7.6"
  }
 },
 "nbformat": 4,
 "nbformat_minor": 0
}
